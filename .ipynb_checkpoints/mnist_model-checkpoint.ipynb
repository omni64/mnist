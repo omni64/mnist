{
 "cells": [
  {
   "cell_type": "code",
   "execution_count": 22,
   "metadata": {},
   "outputs": [],
   "source": [
    "import tensorflow as tf\n",
    "from tensorflow import keras\n",
    "import matplotlib.pyplot as plt\n",
    "import numpy as np"
   ]
  },
  {
   "cell_type": "code",
   "execution_count": 23,
   "metadata": {},
   "outputs": [],
   "source": [
    "(x_train, y_train), (x_test, y_test) = keras.datasets.mnist.load_data()"
   ]
  },
  {
   "cell_type": "code",
   "execution_count": 24,
   "metadata": {},
   "outputs": [],
   "source": [
    "x_train = keras.utils.normalize(x_train, axis = 1)\n",
    "x_test = keras.utils.normalize(x_test, axis = 1)"
   ]
  },
  {
   "cell_type": "code",
   "execution_count": 25,
   "metadata": {},
   "outputs": [],
   "source": [
    "model = keras.models.Sequential()\n",
    "model.add(keras.layers.Flatten())\n",
    "model.add(keras.layers.Dense(128,activation = tf.nn.relu))\n",
    "model.add(keras.layers.Dense(256, activation = tf.nn.relu))\n",
    "model.add(keras.layers.Dense(64, activation = tf.nn.log_softmax))\n",
    "model.add(keras.layers.Dense(10, activation = tf.nn.softmax))\n",
    "model.compile(optimizer='adam', loss='sparse_categorical_crossentropy', metrics = ['accuracy'])"
   ]
  },
  {
   "cell_type": "code",
   "execution_count": 26,
   "metadata": {},
   "outputs": [
    {
     "name": "stdout",
     "output_type": "stream",
     "text": [
      "Epoch 1/3\n",
      "1875/1875 [==============================] - 2s 1ms/step - loss: 0.2904 - accuracy: 0.9163\n",
      "Epoch 2/3\n",
      "1875/1875 [==============================] - 2s 1ms/step - loss: 0.1091 - accuracy: 0.9661\n",
      "Epoch 3/3\n",
      "1875/1875 [==============================] - 2s 1ms/step - loss: 0.0772 - accuracy: 0.9758\n"
     ]
    },
    {
     "data": {
      "text/plain": [
       "<tensorflow.python.keras.callbacks.History at 0x2df6c2c95e0>"
      ]
     },
     "execution_count": 26,
     "metadata": {},
     "output_type": "execute_result"
    }
   ],
   "source": [
    "model.fit(x_train, y_train, epochs=3)"
   ]
  },
  {
   "cell_type": "code",
   "execution_count": 27,
   "metadata": {},
   "outputs": [
    {
     "name": "stdout",
     "output_type": "stream",
     "text": [
      "313/313 [==============================] - 0s 703us/step - loss: 0.0891 - accuracy: 0.9752\n"
     ]
    },
    {
     "data": {
      "text/plain": [
       "[0.0891411155462265, 0.9751999974250793]"
      ]
     },
     "execution_count": 27,
     "metadata": {},
     "output_type": "execute_result"
    }
   ],
   "source": [
    "model.evaluate(x_test, y_test)"
   ]
  },
  {
   "cell_type": "code",
   "execution_count": 30,
   "metadata": {},
   "outputs": [],
   "source": [
    "mynist = np.argmax(model.predict(x_test), axis=-1)"
   ]
  },
  {
   "cell_type": "code",
   "execution_count": 41,
   "metadata": {},
   "outputs": [
    {
     "name": "stdout",
     "output_type": "stream",
     "text": [
      "43 1 2\n",
      "115 9 4\n",
      "158 2 3\n",
      "247 2 4\n",
      "259 0 6\n",
      "321 7 2\n",
      "340 3 5\n",
      "358 4 7\n",
      "447 9 4\n",
      "448 8 9\n",
      "582 1 8\n",
      "610 2 4\n",
      "659 1 2\n",
      "684 3 7\n",
      "691 4 8\n",
      "740 9 4\n",
      "844 7 8\n",
      "947 9 8\n",
      "959 9 4\n",
      "965 0 6\n",
      "1014 5 6\n",
      "1032 8 5\n",
      "1039 1 7\n",
      "1044 8 6\n",
      "1062 7 3\n",
      "1101 9 8\n",
      "1112 6 4\n",
      "1147 7 4\n",
      "1156 8 7\n",
      "1178 0 4\n",
      "1181 1 6\n",
      "1182 8 6\n",
      "1194 9 7\n",
      "1198 4 8\n",
      "1226 2 7\n",
      "1247 5 9\n",
      "1289 9 5\n",
      "1319 3 8\n",
      "1326 1 7\n",
      "1378 6 5\n",
      "1393 3 5\n",
      "1466 3 5\n",
      "1494 0 7\n",
      "1522 9 7\n",
      "1530 7 8\n",
      "1549 2 4\n",
      "1551 3 2\n",
      "1569 4 6\n",
      "1670 3 5\n",
      "1671 3 7\n",
      "1681 7 3\n",
      "1709 3 9\n",
      "1721 9 7\n",
      "1722 7 2\n",
      "1790 8 2\n",
      "1800 2 6\n",
      "1828 7 3\n",
      "1850 9 8\n",
      "1878 3 8\n",
      "1901 4 9\n",
      "1952 8 9\n",
      "1987 9 0\n",
      "2004 9 8\n",
      "2070 9 7\n",
      "2093 1 8\n",
      "2099 4 8\n",
      "2109 7 3\n",
      "2118 0 6\n",
      "2129 8 9\n",
      "2130 9 4\n",
      "2135 1 6\n",
      "2162 8 5\n",
      "2182 2 1\n",
      "2369 9 5\n",
      "2387 1 9\n",
      "2405 2 3\n",
      "2406 1 9\n",
      "2422 4 6\n",
      "2454 5 6\n",
      "2488 9 2\n",
      "2514 9 4\n",
      "2597 3 5\n",
      "2598 2 8\n",
      "2618 5 3\n",
      "2635 7 2\n",
      "2648 0 9\n",
      "2654 1 6\n",
      "2721 5 6\n",
      "2730 4 7\n",
      "2743 8 5\n",
      "2758 3 8\n",
      "2810 3 5\n",
      "2921 2 3\n",
      "2927 2 3\n",
      "2939 7 9\n",
      "2945 7 3\n",
      "2953 8 3\n",
      "2970 3 5\n",
      "2995 8 6\n",
      "3030 2 6\n",
      "3073 2 1\n",
      "3115 9 5\n",
      "3117 9 5\n",
      "3157 3 5\n",
      "3222 2 6\n",
      "3251 9 0\n",
      "3289 9 8\n",
      "3336 7 5\n",
      "3383 8 6\n",
      "3422 0 6\n",
      "3441 8 7\n",
      "3503 1 9\n",
      "3520 4 6\n",
      "3558 0 5\n",
      "3559 5 8\n",
      "3597 3 9\n",
      "3688 8 6\n",
      "3702 8 5\n",
      "3718 9 4\n",
      "3762 8 6\n",
      "3776 8 5\n",
      "3778 2 5\n",
      "3780 6 4\n",
      "3808 8 7\n",
      "3838 1 7\n",
      "3853 2 6\n",
      "3893 3 5\n",
      "3943 5 3\n",
      "3985 4 9\n",
      "4065 9 0\n",
      "4093 4 9\n",
      "4102 9 7\n",
      "4139 4 6\n",
      "4154 4 9\n",
      "4163 0 9\n",
      "4176 7 2\n",
      "4224 7 9\n",
      "4259 4 9\n",
      "4265 9 4\n",
      "4271 3 5\n",
      "4289 8 2\n",
      "4300 9 5\n",
      "4306 7 3\n",
      "4356 8 5\n",
      "4359 7 5\n",
      "4360 3 5\n",
      "4369 4 9\n",
      "4374 8 5\n",
      "4400 4 7\n",
      "4435 7 3\n",
      "4437 2 3\n",
      "4439 4 6\n",
      "4443 2 3\n",
      "4497 7 8\n",
      "4505 3 9\n",
      "4536 5 6\n",
      "4547 2 6\n",
      "4571 0 6\n",
      "4619 8 6\n",
      "4699 1 6\n",
      "4731 7 8\n",
      "4763 6 5\n",
      "4807 0 8\n",
      "4814 0 6\n",
      "4838 5 6\n",
      "4860 9 4\n",
      "4880 8 0\n",
      "4915 8 5\n",
      "4956 4 8\n",
      "5176 4 8\n",
      "5194 9 5\n",
      "5265 4 6\n",
      "5331 6 1\n",
      "5457 8 1\n",
      "5642 8 1\n",
      "5676 7 4\n",
      "5734 7 3\n",
      "5749 2 8\n",
      "5835 8 7\n",
      "5877 0 6\n",
      "5887 0 7\n",
      "5888 6 4\n",
      "5922 3 5\n",
      "5937 3 5\n",
      "5955 8 3\n",
      "5973 8 3\n",
      "6011 0 3\n",
      "6059 9 3\n",
      "6065 8 3\n",
      "6071 3 9\n",
      "6166 3 9\n",
      "6505 0 9\n",
      "6555 9 8\n",
      "6560 4 9\n",
      "6574 6 2\n",
      "6597 7 0\n",
      "6598 6 5\n",
      "6603 7 8\n",
      "6651 8 0\n",
      "6755 9 8\n",
      "7216 6 0\n",
      "7434 8 4\n",
      "7437 8 5\n",
      "7451 8 5\n",
      "7574 1 4\n",
      "7732 8 5\n",
      "7800 2 3\n",
      "7902 9 7\n",
      "7915 9 7\n",
      "7921 2 8\n",
      "8020 8 1\n",
      "8062 8 5\n",
      "8094 8 2\n",
      "8160 3 5\n",
      "8198 4 2\n",
      "8277 8 3\n",
      "8279 4 8\n",
      "8294 4 8\n",
      "8311 4 6\n",
      "8325 6 0\n",
      "8453 8 5\n",
      "8527 9 4\n",
      "9009 2 7\n",
      "9015 2 7\n",
      "9019 2 7\n",
      "9024 2 7\n",
      "9071 8 1\n",
      "9211 9 4\n",
      "9422 3 5\n",
      "9482 3 5\n",
      "9587 4 9\n",
      "9634 8 0\n",
      "9664 7 2\n",
      "9679 3 6\n",
      "9700 8 2\n",
      "9729 6 5\n",
      "9745 2 4\n",
      "9749 6 5\n",
      "9764 9 4\n",
      "9768 0 2\n",
      "9770 0 5\n",
      "9779 0 2\n",
      "9792 1 4\n",
      "9808 4 9\n",
      "9839 7 2\n",
      "9858 8 6\n",
      "9980 3 2\n",
      "9982 6 5\n"
     ]
    }
   ],
   "source": [
    "sum = 0\n",
    "for i in range(len(y_test)):\n",
    "    if ((mynist[i] !=y_test[i])):\n",
    "        print(i, mynist[i], y_test[i])\n",
    "        sum+=1"
   ]
  },
  {
   "cell_type": "code",
   "execution_count": 42,
   "metadata": {},
   "outputs": [
    {
     "data": {
      "text/plain": [
       "<matplotlib.image.AxesImage at 0x2df60de0190>"
      ]
     },
     "execution_count": 42,
     "metadata": {},
     "output_type": "execute_result"
    },
    {
     "data": {
      "image/png": "[encoded data removed]",
      "text/plain": [
       "<Figure size 432x288 with 1 Axes>"
      ]
     },
     "metadata": {
      "needs_background": "light"
     },
     "output_type": "display_data"
    }
   ],
   "source": [
    "plt.imshow(x_test[43])"
   ]
  },
  {
   "cell_type": "code",
   "execution_count": null,
   "metadata": {},
   "outputs": [],
   "source": []
  }
 ],
 "metadata": {
  "kernelspec": {
   "display_name": "Python 3.8.2 64-bit",
   "language": "python",
   "name": "python38264bit90a51463f4b84477ac22331f492a9246"
  },
  "language_info": {
   "codemirror_mode": {
    "name": "ipython",
    "version": 3
   },
   "file_extension": ".py",
   "mimetype": "text/x-python",
   "name": "python",
   "nbconvert_exporter": "python",
   "pygments_lexer": "ipython3",
   "version": "3.8.2"
  }
 },
 "nbformat": 4,
 "nbformat_minor": 4
}
